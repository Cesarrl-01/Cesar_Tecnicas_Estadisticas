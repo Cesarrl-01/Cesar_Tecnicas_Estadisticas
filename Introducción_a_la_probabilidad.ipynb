{
  "nbformat": 4,
  "nbformat_minor": 0,
  "metadata": {
    "colab": {
      "provenance": [],
      "include_colab_link": true
    },
    "kernelspec": {
      "name": "python3",
      "display_name": "Python 3"
    },
    "language_info": {
      "name": "python"
    }
  },
  "cells": [
    {
      "cell_type": "markdown",
      "metadata": {
        "id": "view-in-github",
        "colab_type": "text"
      },
      "source": [
        "<a href=\"https://colab.research.google.com/github/Cesarrl-01/Cesar_Tecnicas_Estadisticas/blob/main/Introducci%C3%B3n_a_la_probabilidad.ipynb\" target=\"_parent\"><img src=\"https://colab.research.google.com/assets/colab-badge.svg\" alt=\"Open In Colab\"/></a>"
      ]
    },
    {
      "cell_type": "markdown",
      "source": [
        "# Probabilidad clásica.\n"
      ],
      "metadata": {
        "id": "znQx0ZZSVJqm"
      }
    },
    {
      "cell_type": "markdown",
      "source": [
        "## Algunos conceptos de Python.\n",
        "\n",
        "\n",
        "*   Es un lenguaje orientado a objetos.\n",
        "*   Objetos: int, float, str, listas (list), vectores (arrays), conjuntos (set), diccionarios, DataFrames, etcétera.  \n",
        "\n",
        "\n",
        "\n"
      ],
      "metadata": {
        "id": "54SCtpePWDh9"
      }
    },
    {
      "cell_type": "code",
      "execution_count": null,
      "metadata": {
        "colab": {
          "base_uri": "https://localhost:8080/"
        },
        "id": "WRPxx_wjRHro",
        "outputId": "a2f15193-c15d-494c-f159-e9abbb56c74f"
      },
      "outputs": [
        {
          "output_type": "stream",
          "name": "stdout",
          "text": [
            "9\n",
            "0.8\n",
            "20\n",
            "1024\n",
            "0\n"
          ]
        }
      ],
      "source": [
        "# celda de código\n",
        "\n",
        "print(4+5)   # sumar\n",
        "print(4/5)   # división\n",
        "print(4*5)   # multiplicación\n",
        "print(4**5)  # potenciar\n",
        "print(4//5)  # división al piso"
      ]
    },
    {
      "cell_type": "markdown",
      "source": [
        "División al piso: Si $x\\in \\mathbb{R}$, la función piso:\n",
        "$$\\lfloor x \\rfloor=\\max\\{m\\in \\mathbb{Z} \\mid m\\leq x \\}$$"
      ],
      "metadata": {
        "id": "laR_k9kFk0Q6"
      }
    },
    {
      "cell_type": "code",
      "source": [
        "9//4"
      ],
      "metadata": {
        "colab": {
          "base_uri": "https://localhost:8080/"
        },
        "id": "DENkiGXvVcnG",
        "outputId": "696671f2-fd12-4246-b82b-a12ae6ee1053"
      },
      "execution_count": null,
      "outputs": [
        {
          "output_type": "execute_result",
          "data": {
            "text/plain": [
              "2"
            ]
          },
          "metadata": {},
          "execution_count": 3
        }
      ]
    },
    {
      "cell_type": "markdown",
      "source": [
        "Operación modular: Sean $a$ y $b$ números reales.\n",
        "\n",
        "El residuo de dividir a entre b se llama operación modular. En Python, se escribe a%b"
      ],
      "metadata": {
        "id": "WSma0Z4hmbTr"
      }
    },
    {
      "cell_type": "code",
      "source": [
        "5%2"
      ],
      "metadata": {
        "colab": {
          "base_uri": "https://localhost:8080/"
        },
        "id": "zi1gw_kPmvv8",
        "outputId": "12c89a46-9738-4630-84d3-4a0706513603"
      },
      "execution_count": null,
      "outputs": [
        {
          "output_type": "execute_result",
          "data": {
            "text/plain": [
              "1"
            ]
          },
          "metadata": {},
          "execution_count": 4
        }
      ]
    },
    {
      "cell_type": "markdown",
      "source": [
        "### Listas\n",
        "\n",
        "Una lista es una manera de organizar objetos.\n",
        "\n"
      ],
      "metadata": {
        "id": "fyqU3ZspnbSK"
      }
    },
    {
      "cell_type": "code",
      "source": [
        "# variables\n",
        "lista_1 = [1, 3.2, \"Hola\", False, {\"A\", \"S\"}]\n",
        "lista_1"
      ],
      "metadata": {
        "colab": {
          "base_uri": "https://localhost:8080/"
        },
        "id": "Q7VUlwRDoHID",
        "outputId": "c6ec434a-c80a-4d3b-d829-dd45d11ee495"
      },
      "execution_count": null,
      "outputs": [
        {
          "output_type": "execute_result",
          "data": {
            "text/plain": [
              "[1, 3.2, 'Hola', False, {'A', 'S'}]"
            ]
          },
          "metadata": {},
          "execution_count": 5
        }
      ]
    },
    {
      "cell_type": "code",
      "source": [
        "# La función type nos dice qué tipo de objeto se tiene\n",
        "type(lista_1)"
      ],
      "metadata": {
        "colab": {
          "base_uri": "https://localhost:8080/"
        },
        "id": "FV62zMEepFlS",
        "outputId": "ae16310d-9bec-4b9d-af43-2c96317ae02e"
      },
      "execution_count": null,
      "outputs": [
        {
          "output_type": "execute_result",
          "data": {
            "text/plain": [
              "list"
            ]
          },
          "metadata": {},
          "execution_count": 6
        }
      ]
    },
    {
      "cell_type": "code",
      "source": [
        "type(5+8)"
      ],
      "metadata": {
        "colab": {
          "base_uri": "https://localhost:8080/"
        },
        "id": "i2HNci8Cpceb",
        "outputId": "3cd948cc-d7e6-4b56-cadc-8e97a6e1fc9a"
      },
      "execution_count": null,
      "outputs": [
        {
          "output_type": "execute_result",
          "data": {
            "text/plain": [
              "int"
            ]
          },
          "metadata": {},
          "execution_count": 7
        }
      ]
    },
    {
      "cell_type": "markdown",
      "source": [
        "#### Ingresos a elementos.\n",
        "\n",
        "Si tenemos una lista\n",
        "$$L = [e_{1}, e_{2}, \\dots, e_{n}]$$\n",
        "entonces, si queremos ingresar al $e_{i}$ elemento:\n",
        "$$L[i-1].$$"
      ],
      "metadata": {
        "id": "mU8Q4BACq64Y"
      }
    },
    {
      "cell_type": "code",
      "source": [
        "type(lista_1[4])"
      ],
      "metadata": {
        "colab": {
          "base_uri": "https://localhost:8080/"
        },
        "id": "H_NZJT5Jrwab",
        "outputId": "584e23b4-f325-415b-9295-35e0b320e223"
      },
      "execution_count": null,
      "outputs": [
        {
          "output_type": "execute_result",
          "data": {
            "text/plain": [
              "set"
            ]
          },
          "metadata": {},
          "execution_count": 8
        }
      ]
    },
    {
      "cell_type": "code",
      "source": [
        "lista_1[5]"
      ],
      "metadata": {
        "colab": {
          "base_uri": "https://localhost:8080/",
          "height": 141
        },
        "id": "CLdbjxb0sfhm",
        "outputId": "3ca3bf06-2ad8-4012-d6cc-986f560a7d75"
      },
      "execution_count": null,
      "outputs": [
        {
          "output_type": "error",
          "ename": "IndexError",
          "evalue": "list index out of range",
          "traceback": [
            "\u001b[0;31m---------------------------------------------------------------------------\u001b[0m",
            "\u001b[0;31mIndexError\u001b[0m                                Traceback (most recent call last)",
            "\u001b[0;32m<ipython-input-9-f2e8ba98b710>\u001b[0m in \u001b[0;36m<cell line: 1>\u001b[0;34m()\u001b[0m\n\u001b[0;32m----> 1\u001b[0;31m \u001b[0mlista_1\u001b[0m\u001b[0;34m[\u001b[0m\u001b[0;36m5\u001b[0m\u001b[0;34m]\u001b[0m\u001b[0;34m\u001b[0m\u001b[0;34m\u001b[0m\u001b[0m\n\u001b[0m",
            "\u001b[0;31mIndexError\u001b[0m: list index out of range"
          ]
        }
      ]
    },
    {
      "cell_type": "markdown",
      "source": [
        "#### Generador de índices (etiquetas de Python).\n",
        "\n",
        "Este generador de índices, se llama `range(n)`"
      ],
      "metadata": {
        "id": "TrDYVqWus3gL"
      }
    },
    {
      "cell_type": "code",
      "source": [
        "range(10)"
      ],
      "metadata": {
        "colab": {
          "base_uri": "https://localhost:8080/"
        },
        "id": "FmnUYp5Hs2GN",
        "outputId": "25f8dc2c-4371-429c-b4df-680e44120109"
      },
      "execution_count": null,
      "outputs": [
        {
          "output_type": "execute_result",
          "data": {
            "text/plain": [
              "range(0, 10)"
            ]
          },
          "metadata": {},
          "execution_count": 10
        }
      ]
    },
    {
      "cell_type": "code",
      "source": [
        "for i in range(10):\n",
        "  print(i)"
      ],
      "metadata": {
        "colab": {
          "base_uri": "https://localhost:8080/"
        },
        "id": "9-cnBJtguLo2",
        "outputId": "767804c8-7055-40c2-f9a5-2aafed7f638b"
      },
      "execution_count": null,
      "outputs": [
        {
          "output_type": "stream",
          "name": "stdout",
          "text": [
            "0\n",
            "1\n",
            "2\n",
            "3\n",
            "4\n",
            "5\n",
            "6\n",
            "7\n",
            "8\n",
            "9\n"
          ]
        }
      ]
    },
    {
      "cell_type": "code",
      "source": [
        "lista_2 = [i for i in range(1, 6)]\n",
        "lista_2"
      ],
      "metadata": {
        "colab": {
          "base_uri": "https://localhost:8080/"
        },
        "id": "5OmXQnkvuakn",
        "outputId": "3ef73b59-ec6c-4527-9cff-a34ab6a6f15d"
      },
      "execution_count": null,
      "outputs": [
        {
          "output_type": "execute_result",
          "data": {
            "text/plain": [
              "[1, 2, 3, 4, 5]"
            ]
          },
          "metadata": {},
          "execution_count": 12
        }
      ]
    },
    {
      "cell_type": "code",
      "source": [
        "# Agregar elementos a una lista append\n",
        "\n",
        "L = []\n",
        "\n",
        "for i in range(2,6):\n",
        "  L.append(i)        # append es para listas"
      ],
      "metadata": {
        "id": "YI4xQ2DuvPdt"
      },
      "execution_count": null,
      "outputs": []
    },
    {
      "cell_type": "code",
      "source": [
        "L"
      ],
      "metadata": {
        "colab": {
          "base_uri": "https://localhost:8080/"
        },
        "id": "Zu_DSWVCvheq",
        "outputId": "c707e0db-2214-4883-d79c-f6790492f1f0"
      },
      "execution_count": null,
      "outputs": [
        {
          "output_type": "execute_result",
          "data": {
            "text/plain": [
              "[2, 3, 4, 5]"
            ]
          },
          "metadata": {},
          "execution_count": 14
        }
      ]
    },
    {
      "cell_type": "markdown",
      "source": [
        "## Modelo clásico laplaciano"
      ],
      "metadata": {
        "id": "J5I0uIiQV-oM"
      }
    },
    {
      "cell_type": "markdown",
      "source": [
        "### Ejemplo: Lanzamiento de 3 monedas.\n",
        "\n",
        "Se tiene el siguiente experimento aleatorio. Se lanzan, de manera independiente, 3 monedas.\n",
        "\n",
        "El espacio muestral es:\n",
        "$$\\Omega=\\{A, S\\}\\times \\{A, S\\}\\times \\{A,S\\}=\\{ A, S\\}^{3}.$$"
      ],
      "metadata": {
        "id": "Uz2lGaLipsb1"
      }
    },
    {
      "cell_type": "markdown",
      "source": [
        "$$\\text{card}(\\Omega)=2^3=8.$$"
      ],
      "metadata": {
        "id": "s0xi1xYdwPCK"
      }
    },
    {
      "cell_type": "markdown",
      "source": [
        "Tenemos\n",
        "$$\\mathcal{F}=p(\\Omega)$$\n",
        "$$\\text{card}(\\mathcal{F})=2^{8}.$$"
      ],
      "metadata": {
        "id": "zoT5Pw_z0QMh"
      }
    },
    {
      "cell_type": "markdown",
      "source": [
        "$\\color{cyan}{Definición \\ de  \\ probabilidad \\ clásica \\ (modelo \\ laplaciano)}$.\n",
        "\n",
        "Si $E$ es un evento, la función de probabilidad:\n",
        "$$\\mathbb{P}(E)=\\frac{\\text{card}(E)}{\\text{card}(\\Omega)}$$\n"
      ],
      "metadata": {
        "id": "HzXgNRtb2VtW"
      }
    },
    {
      "cell_type": "code",
      "source": [
        "# Hay 256 posibles eventos\n",
        "\n",
        "2**8"
      ],
      "metadata": {
        "colab": {
          "base_uri": "https://localhost:8080/"
        },
        "id": "C7WV8JLn0xbP",
        "outputId": "dc41a35f-28fa-42ea-cd0a-20c86d221fa9"
      },
      "execution_count": null,
      "outputs": [
        {
          "output_type": "execute_result",
          "data": {
            "text/plain": [
              "256"
            ]
          },
          "metadata": {},
          "execution_count": 15
        }
      ]
    },
    {
      "cell_type": "code",
      "source": [
        "# Vamos a crear el código para Omega\n",
        "\n",
        "import itertools\n",
        "from itertools import product\n",
        "\n",
        "Omega = set(product({\"A\", \"S\"}, repeat= 3))\n",
        "Omega"
      ],
      "metadata": {
        "colab": {
          "base_uri": "https://localhost:8080/"
        },
        "id": "jBVZF3Y5V_tx",
        "outputId": "ff08f317-a805-4b23-94ac-f016355dc31a"
      },
      "execution_count": null,
      "outputs": [
        {
          "output_type": "execute_result",
          "data": {
            "text/plain": [
              "{('A', 'A', 'A'),\n",
              " ('A', 'A', 'S'),\n",
              " ('A', 'S', 'A'),\n",
              " ('A', 'S', 'S'),\n",
              " ('S', 'A', 'A'),\n",
              " ('S', 'A', 'S'),\n",
              " ('S', 'S', 'A'),\n",
              " ('S', 'S', 'S')}"
            ]
          },
          "metadata": {},
          "execution_count": 16
        }
      ]
    },
    {
      "cell_type": "code",
      "source": [
        "len(Omega)"
      ],
      "metadata": {
        "colab": {
          "base_uri": "https://localhost:8080/"
        },
        "id": "bpdPFGu8zZdY",
        "outputId": "83e43f01-101c-488c-f872-8075ad3b0549"
      },
      "execution_count": null,
      "outputs": [
        {
          "output_type": "execute_result",
          "data": {
            "text/plain": [
              "8"
            ]
          },
          "metadata": {},
          "execution_count": 17
        }
      ]
    },
    {
      "cell_type": "code",
      "source": [
        "T = (\"A\", \"A\", \"A\")\n",
        "T[0]"
      ],
      "metadata": {
        "colab": {
          "base_uri": "https://localhost:8080/",
          "height": 35
        },
        "id": "9mjA3wkD4SfL",
        "outputId": "3abfc9cb-8a0a-461c-875e-78bbd2fb9bb0"
      },
      "execution_count": null,
      "outputs": [
        {
          "output_type": "execute_result",
          "data": {
            "text/plain": [
              "'A'"
            ],
            "application/vnd.google.colaboratory.intrinsic+json": {
              "type": "string"
            }
          },
          "metadata": {},
          "execution_count": 18
        }
      ]
    },
    {
      "cell_type": "markdown",
      "source": [
        "Consideremos los siguientes eventos:\n",
        "\n",
        "\n",
        "1.   A: todas las caras sean águilas.\n",
        "2.   S: todas las caras sean soles.\n",
        "3.   E: por lo menos una cara sea sol.\n",
        "\n"
      ],
      "metadata": {
        "id": "fBG9PCLg1nbY"
      }
    },
    {
      "cell_type": "markdown",
      "source": [
        "Vamos a contestar la primer pregunta.\n",
        "\n",
        "Llamemos como $A_{i}$ al evento en donde cae águila en el $i$-ésimo resultado.\n",
        "\n",
        "Así,\n",
        "$$A=A_{1}\\cap A_{2}\\cap A_{3}.$$"
      ],
      "metadata": {
        "id": "wDD4fndv3Q7R"
      }
    },
    {
      "cell_type": "code",
      "source": [
        "# Creamos a nuestro primer evento\n",
        "\n",
        "A_1 = {om for om in Omega if om[0]==\"A\"}\n",
        "A_1"
      ],
      "metadata": {
        "colab": {
          "base_uri": "https://localhost:8080/"
        },
        "id": "EIvKamBkz6Np",
        "outputId": "6511bd0a-4f5a-482d-be9b-6864ea12a554"
      },
      "execution_count": null,
      "outputs": [
        {
          "output_type": "execute_result",
          "data": {
            "text/plain": [
              "{('A', 'A', 'A'), ('A', 'A', 'S'), ('A', 'S', 'A'), ('A', 'S', 'S')}"
            ]
          },
          "metadata": {},
          "execution_count": 19
        }
      ]
    },
    {
      "cell_type": "code",
      "source": [
        "# Creamos a nuestro segundo evento\n",
        "\n",
        "A_2 = {om for om in Omega if om[1]==\"A\"}\n",
        "A_2"
      ],
      "metadata": {
        "colab": {
          "base_uri": "https://localhost:8080/"
        },
        "id": "fN0FDYAk5TdL",
        "outputId": "78dfea60-f92b-4662-e2ab-485c6d69d265"
      },
      "execution_count": null,
      "outputs": [
        {
          "output_type": "execute_result",
          "data": {
            "text/plain": [
              "{('A', 'A', 'A'), ('A', 'A', 'S'), ('S', 'A', 'A'), ('S', 'A', 'S')}"
            ]
          },
          "metadata": {},
          "execution_count": 20
        }
      ]
    },
    {
      "cell_type": "code",
      "source": [
        "# Creamos a nuestro tercer evento\n",
        "\n",
        "A_3 = {om for om in Omega if om[2]==\"A\"}\n",
        "A_3"
      ],
      "metadata": {
        "colab": {
          "base_uri": "https://localhost:8080/"
        },
        "id": "WqWjEFSW5fv0",
        "outputId": "a994564c-9c48-4bbd-aa38-051c9cdfe152"
      },
      "execution_count": null,
      "outputs": [
        {
          "output_type": "execute_result",
          "data": {
            "text/plain": [
              "{('A', 'A', 'A'), ('A', 'S', 'A'), ('S', 'A', 'A'), ('S', 'S', 'A')}"
            ]
          },
          "metadata": {},
          "execution_count": 22
        }
      ]
    },
    {
      "cell_type": "markdown",
      "source": [
        "Usamos la función `intersection`."
      ],
      "metadata": {
        "id": "6iQJhCEc5vIj"
      }
    },
    {
      "cell_type": "code",
      "source": [
        "A = A_1.intersection(A_2.intersection(A_3))\n",
        "A"
      ],
      "metadata": {
        "colab": {
          "base_uri": "https://localhost:8080/"
        },
        "id": "1u21fgtR5nLx",
        "outputId": "51236ec0-7182-4265-b628-cb242d96a12c"
      },
      "execution_count": null,
      "outputs": [
        {
          "output_type": "execute_result",
          "data": {
            "text/plain": [
              "{('A', 'A', 'A')}"
            ]
          },
          "metadata": {},
          "execution_count": 23
        }
      ]
    },
    {
      "cell_type": "code",
      "source": [
        "P_A = len(A)/len(Omega)\n",
        "P_A"
      ],
      "metadata": {
        "colab": {
          "base_uri": "https://localhost:8080/"
        },
        "id": "JdziT2JK6De8",
        "outputId": "9d20e740-5a9d-4e43-8bb7-2f378a429ebb"
      },
      "execution_count": null,
      "outputs": [
        {
          "output_type": "execute_result",
          "data": {
            "text/plain": [
              "0.125"
            ]
          },
          "metadata": {},
          "execution_count": 25
        }
      ]
    },
    {
      "cell_type": "code",
      "source": [
        "A = {om for om in Omega if om.count(\"A\")==3}\n",
        "A"
      ],
      "metadata": {
        "colab": {
          "base_uri": "https://localhost:8080/"
        },
        "id": "yuHawmvD6bxP",
        "outputId": "6b85ac88-756c-402a-81c6-7b5d58ebb35d"
      },
      "execution_count": null,
      "outputs": [
        {
          "output_type": "execute_result",
          "data": {
            "text/plain": [
              "{('A', 'A', 'A')}"
            ]
          },
          "metadata": {},
          "execution_count": 24
        }
      ]
    },
    {
      "cell_type": "markdown",
      "source": [
        "##### Creación de funciones (globales)."
      ],
      "metadata": {
        "id": "KH9toVHY81vx"
      }
    },
    {
      "cell_type": "markdown",
      "source": [
        "Vamos a crear una función que calcule la probabilidad de un evento dentro de un espacio muestral en el contexto clásico."
      ],
      "metadata": {
        "id": "URknUKua9UYn"
      }
    },
    {
      "cell_type": "code",
      "source": [
        "from fractions import Fraction\n",
        "\n",
        "def P(E, Omega):\n",
        "  p = Fraction(len(E),len(Omega))\n",
        "  return p"
      ],
      "metadata": {
        "id": "YgrQ1WMa8S7D"
      },
      "execution_count": null,
      "outputs": []
    },
    {
      "cell_type": "code",
      "source": [
        "P(A, Omega)"
      ],
      "metadata": {
        "colab": {
          "base_uri": "https://localhost:8080/"
        },
        "id": "Hu65Q1x9--Qj",
        "outputId": "2eaf267f-e5b8-4b6d-87f8-64b55f5f078e"
      },
      "execution_count": null,
      "outputs": [
        {
          "output_type": "execute_result",
          "data": {
            "text/plain": [
              "Fraction(1, 8)"
            ]
          },
          "metadata": {},
          "execution_count": 27
        }
      ]
    },
    {
      "cell_type": "code",
      "source": [
        "S = {om for om in Omega if om.count(\"S\")==3}\n",
        "S"
      ],
      "metadata": {
        "colab": {
          "base_uri": "https://localhost:8080/"
        },
        "id": "CvuP6vQI_Cm2",
        "outputId": "b68177d4-f25e-4014-8e2d-d09df11a029d"
      },
      "execution_count": null,
      "outputs": [
        {
          "output_type": "execute_result",
          "data": {
            "text/plain": [
              "{('S', 'S', 'S')}"
            ]
          },
          "metadata": {},
          "execution_count": 28
        }
      ]
    },
    {
      "cell_type": "code",
      "source": [
        "P(S,Omega)"
      ],
      "metadata": {
        "colab": {
          "base_uri": "https://localhost:8080/"
        },
        "id": "1ZSRlMZw_d-j",
        "outputId": "0eb4ab3a-2b92-44de-cb5f-7b432dbdf59d"
      },
      "execution_count": null,
      "outputs": [
        {
          "output_type": "execute_result",
          "data": {
            "text/plain": [
              "Fraction(1, 8)"
            ]
          },
          "metadata": {},
          "execution_count": 29
        }
      ]
    },
    {
      "cell_type": "code",
      "source": [
        "E = {om for om in Omega if om.count(\"S\")>=1}\n",
        "E"
      ],
      "metadata": {
        "id": "UYyONNOR_gTI",
        "colab": {
          "base_uri": "https://localhost:8080/"
        },
        "outputId": "a321b25e-084f-429b-ef5d-e69e281efc51"
      },
      "execution_count": null,
      "outputs": [
        {
          "output_type": "execute_result",
          "data": {
            "text/plain": [
              "{('A', 'A', 'S'),\n",
              " ('A', 'S', 'A'),\n",
              " ('A', 'S', 'S'),\n",
              " ('S', 'A', 'A'),\n",
              " ('S', 'A', 'S'),\n",
              " ('S', 'S', 'A'),\n",
              " ('S', 'S', 'S')}"
            ]
          },
          "metadata": {},
          "execution_count": 30
        }
      ]
    },
    {
      "cell_type": "code",
      "source": [
        "P(E,Omega)"
      ],
      "metadata": {
        "colab": {
          "base_uri": "https://localhost:8080/"
        },
        "id": "zA_6OGhdEpXm",
        "outputId": "9d1beab4-0c6f-4819-fbf5-ec41b433bc06"
      },
      "execution_count": null,
      "outputs": [
        {
          "output_type": "execute_result",
          "data": {
            "text/plain": [
              "Fraction(7, 8)"
            ]
          },
          "metadata": {},
          "execution_count": 31
        }
      ]
    },
    {
      "cell_type": "markdown",
      "source": [
        "D. Que salgan dos soles"
      ],
      "metadata": {
        "id": "08tyGShsJMJ8"
      }
    },
    {
      "cell_type": "code",
      "source": [
        "D = {om for om in Omega if om.count(\"A\")==2}\n",
        "D"
      ],
      "metadata": {
        "colab": {
          "base_uri": "https://localhost:8080/"
        },
        "id": "w_TEew7cGv_C",
        "outputId": "17827686-d2ce-400d-c454-71b49b187b9c"
      },
      "execution_count": null,
      "outputs": [
        {
          "output_type": "execute_result",
          "data": {
            "text/plain": [
              "{('A', 'A', 'S'), ('A', 'S', 'A'), ('S', 'A', 'A')}"
            ]
          },
          "metadata": {},
          "execution_count": 33
        }
      ]
    },
    {
      "cell_type": "code",
      "source": [
        "P(D,Omega)"
      ],
      "metadata": {
        "colab": {
          "base_uri": "https://localhost:8080/"
        },
        "id": "8zXM59ROG6dE",
        "outputId": "a2684572-5e47-48ab-cba7-081589684e89"
      },
      "execution_count": null,
      "outputs": [
        {
          "output_type": "execute_result",
          "data": {
            "text/plain": [
              "Fraction(3, 8)"
            ]
          },
          "metadata": {},
          "execution_count": 34
        }
      ]
    }
  ]
}